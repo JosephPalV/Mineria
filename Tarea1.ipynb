{
 "cells": [
  {
   "cell_type": "markdown",
   "id": "0572c69d-be2f-4152-b49f-5c12c1a5d29a",
   "metadata": {},
   "source": [
    "# Curso de Mineria de datos(markdown)"
   ]
  },
  {
   "cell_type": "markdown",
   "id": "b2630e2b-f978-444f-a4e8-bffb9a47c4b1",
   "metadata": {},
   "source": [
    "## Practica 1"
   ]
  },
  {
   "cell_type": "markdown",
   "id": "b534ef2c-981a-4571-9420-031dbefcddf3",
   "metadata": {},
   "source": [
    "Vamos a escribir codigo Latex:\n",
    "    $$y=\\sin x$$"
   ]
  },
  {
   "cell_type": "markdown",
   "id": "f4745343-12f0-4c2f-a05d-06c34acd933e",
   "metadata": {},
   "source": [
    "<h1>Curso de mineria de datos(HTML)"
   ]
  },
  {
   "cell_type": "markdown",
   "id": "f9318311-4590-42b9-8e1a-30ec45e8a8b6",
   "metadata": {},
   "source": [
    "<h2> Practica 1"
   ]
  },
  {
   "cell_type": "markdown",
   "id": "4a4252aa-4193-4dd9-b173-986dbdf5087a",
   "metadata": {},
   "source": [
    "Vamos a poner un link de un video y un link de un video :\n",
    "    [video](https://youtu.be/tXekbwrgxL0)"
   ]
  },
  {
   "cell_type": "markdown",
   "id": "3c1fe9ad-2e3d-4d09-b356-63feca091509",
   "metadata": {},
   "source": [
    "Vamos a poner un link de un video y un link de un imagen :\n",
    "    [imagen](https://images.app.goo.gl/zdrgzAUT3GoJbyxR7)"
   ]
  },
  {
   "cell_type": "markdown",
   "id": "01d61a78-c19d-4258-b8c5-b26f458ebe15",
   "metadata": {},
   "source": [
    "A continuación se mostrara que se intalaron Python, Jupyter Lab y Sklearn"
   ]
  },
  {
   "cell_type": "code",
   "execution_count": 6,
   "id": "7d652978-f498-495c-94b8-69a433acfc11",
   "metadata": {},
   "outputs": [
    {
     "name": "stdout",
     "output_type": "stream",
     "text": [
      "# packages in environment at C:\\Users\\josep\\anaconda3\\envs\\mineria:\n",
      "#\n",
      "# Name                    Version                   Build  Channel\n",
      "anyio                     3.6.1              pyhd8ed1ab_1    conda-forge\n",
      "argon2-cffi               21.3.0             pyhd8ed1ab_0    conda-forge\n",
      "argon2-cffi-bindings      21.2.0          py310he2412df_2    conda-forge\n",
      "asttokens                 2.0.8              pyhd8ed1ab_0    conda-forge\n",
      "attrs                     22.1.0             pyh71513ae_1    conda-forge\n",
      "babel                     2.10.3             pyhd8ed1ab_0    conda-forge\n",
      "backcall                  0.2.0              pyh9f0ad1d_0    conda-forge\n",
      "backports                 1.0                        py_2    conda-forge\n",
      "backports.functools_lru_cache 1.6.4              pyhd8ed1ab_0    conda-forge\n",
      "beautifulsoup4            4.11.1             pyha770c72_0    conda-forge\n",
      "blas                      1.0                         mkl  \n",
      "bleach                    5.0.1              pyhd8ed1ab_0    conda-forge\n",
      "brotlipy                  0.7.0           py310he2412df_1004    conda-forge\n",
      "bzip2                     1.0.8                he774522_0  \n",
      "ca-certificates           2022.4.26            haa95532_0    anaconda\n",
      "certifi                   2022.6.15       py310haa95532_0    anaconda\n",
      "cffi                      1.15.1          py310hcbf9ad4_0    conda-forge\n",
      "charset-normalizer        2.1.0              pyhd8ed1ab_0    conda-forge\n",
      "colorama                  0.4.5              pyhd8ed1ab_0    conda-forge\n",
      "cryptography              37.0.4          py310ha857299_0    conda-forge\n",
      "debugpy                   1.6.0           py310h8a704f9_0    conda-forge\n",
      "decorator                 5.1.1              pyhd8ed1ab_0    conda-forge\n",
      "defusedxml                0.7.1              pyhd8ed1ab_0    conda-forge\n",
      "entrypoints               0.4                pyhd8ed1ab_0    conda-forge\n",
      "executing                 0.10.0             pyhd8ed1ab_0    conda-forge\n",
      "flit-core                 3.7.1              pyhd8ed1ab_0    conda-forge\n",
      "icc_rt                    2019.0.0             h0cc432a_1    anaconda\n",
      "idna                      3.3                pyhd8ed1ab_0    conda-forge\n",
      "importlib-metadata        4.11.4          py310h5588dad_0    conda-forge\n",
      "importlib_metadata        4.11.4               hd8ed1ab_0    conda-forge\n",
      "importlib_resources       5.9.0              pyhd8ed1ab_0    conda-forge\n",
      "intel-openmp              2021.4.0          haa95532_3556  \n",
      "ipykernel                 6.15.1             pyh025b116_0    conda-forge\n",
      "ipython                   8.4.0           py310h5588dad_0    conda-forge\n",
      "ipython_genutils          0.2.0                      py_1    conda-forge\n",
      "jedi                      0.18.1             pyhd8ed1ab_2    conda-forge\n",
      "jinja2                    3.1.2              pyhd8ed1ab_1    conda-forge\n",
      "joblib                    1.1.0              pyhd3eb1b0_0    anaconda\n",
      "json5                     0.9.5              pyh9f0ad1d_0    conda-forge\n",
      "jsonschema                4.9.1              pyhd8ed1ab_0    conda-forge\n",
      "jupyter_client            7.3.4              pyhd8ed1ab_0    conda-forge\n",
      "jupyter_core              4.11.1          py310h5588dad_0    conda-forge\n",
      "jupyter_server            1.18.1             pyhd8ed1ab_0    conda-forge\n",
      "jupyterlab                3.4.5              pyhd8ed1ab_0    conda-forge\n",
      "jupyterlab_pygments       0.2.2              pyhd8ed1ab_0    conda-forge\n",
      "jupyterlab_server         2.15.0             pyhd8ed1ab_0    conda-forge\n",
      "libffi                    3.4.2                hd77b12b_4  \n",
      "libiconv                  1.16                 he774522_0    conda-forge\n",
      "libsodium                 1.0.18               h8d14728_1    conda-forge\n",
      "libxml2                   2.9.14               hf5bbc77_4    conda-forge\n",
      "libxslt                   1.1.35               h34f844d_0    conda-forge\n",
      "libzlib                   1.2.12               h8ffe710_2    conda-forge\n",
      "lxml                      4.9.1           py310he2412df_0    conda-forge\n",
      "markupsafe                2.1.1           py310he2412df_1    conda-forge\n",
      "matplotlib-inline         0.1.3              pyhd8ed1ab_0    conda-forge\n",
      "mistune                   0.8.4           py310he2412df_1005    conda-forge\n",
      "mkl                       2021.4.0           haa95532_640  \n",
      "mkl-service               2.4.0           py310h2bbff1b_0  \n",
      "mkl_fft                   1.3.1           py310ha0764ea_0  \n",
      "mkl_random                1.2.2           py310h4ed8f06_0  \n",
      "nbclassic                 0.4.3              pyhd8ed1ab_0    conda-forge\n",
      "nbclient                  0.6.6              pyhd8ed1ab_0    conda-forge\n",
      "nbconvert                 6.5.3              pyhd8ed1ab_0    conda-forge\n",
      "nbconvert-core            6.5.3              pyhd8ed1ab_0    conda-forge\n",
      "nbconvert-pandoc          6.5.3              pyhd8ed1ab_0    conda-forge\n",
      "nbformat                  5.4.0              pyhd8ed1ab_0    conda-forge\n",
      "nest-asyncio              1.5.5              pyhd8ed1ab_0    conda-forge\n",
      "notebook                  6.4.12             pyha770c72_0    conda-forge\n",
      "notebook-shim             0.1.0              pyhd8ed1ab_0    conda-forge\n",
      "numpy                     1.23.1          py310h6d2d95c_0  \n",
      "numpy-base                1.23.1          py310h206c741_0  \n",
      "openssl                   1.1.1q               h2bbff1b_0  \n",
      "packaging                 21.3               pyhd8ed1ab_0    conda-forge\n",
      "pandoc                    2.19                 h57928b3_0    conda-forge\n",
      "pandocfilters             1.5.0              pyhd8ed1ab_0    conda-forge\n",
      "parso                     0.8.3              pyhd8ed1ab_0    conda-forge\n",
      "pickleshare               0.7.5                   py_1003    conda-forge\n",
      "pip                       22.1.2          py310haa95532_0  \n",
      "pkgutil-resolve-name      1.3.10             pyhd8ed1ab_0    conda-forge\n",
      "prometheus_client         0.14.1             pyhd8ed1ab_0    conda-forge\n",
      "prompt-toolkit            3.0.30             pyha770c72_0    conda-forge\n",
      "psutil                    5.9.1           py310he2412df_0    conda-forge\n",
      "pure_eval                 0.2.2              pyhd8ed1ab_0    conda-forge\n",
      "pycparser                 2.21               pyhd8ed1ab_0    conda-forge\n",
      "pygments                  2.12.0             pyhd8ed1ab_0    conda-forge\n",
      "pyopenssl                 22.0.0             pyhd8ed1ab_0    conda-forge\n",
      "pyparsing                 3.0.9              pyhd8ed1ab_0    conda-forge\n",
      "pyrsistent                0.18.1          py310he2412df_1    conda-forge\n",
      "pysocks                   1.7.1           py310h5588dad_5    conda-forge\n",
      "python                    3.10.4               hbb2ffb3_0    anaconda\n",
      "python-dateutil           2.8.2              pyhd8ed1ab_0    conda-forge\n",
      "python-fastjsonschema     2.16.1             pyhd8ed1ab_0    conda-forge\n",
      "python_abi                3.10                    2_cp310    conda-forge\n",
      "pytz                      2022.2.1           pyhd8ed1ab_0    conda-forge\n",
      "pywin32                   303             py310he2412df_0    conda-forge\n",
      "pywinpty                  2.0.2           py310h5da7b33_0  \n",
      "pyzmq                     23.2.1          py310h73ada01_0    conda-forge\n",
      "requests                  2.28.1             pyhd8ed1ab_0    conda-forge\n",
      "scikit-learn              1.0.2           py310h4ed8f06_0    anaconda\n",
      "scipy                     1.7.3           py310h6d2d95c_0    anaconda\n",
      "send2trash                1.8.0              pyhd8ed1ab_0    conda-forge\n",
      "setuptools                61.2.0          py310haa95532_0  \n",
      "six                       1.16.0             pyhd3eb1b0_1  \n",
      "sniffio                   1.2.0           py310h5588dad_3    conda-forge\n",
      "soupsieve                 2.3.2.post1        pyhd8ed1ab_0    conda-forge\n",
      "sqlite                    3.39.2               h2bbff1b_0  \n",
      "stack_data                0.4.0              pyhd8ed1ab_0    conda-forge\n",
      "terminado                 0.15.0          py310h5588dad_0    conda-forge\n",
      "threadpoolctl             2.2.0              pyh0d69192_0    anaconda\n",
      "tinycss2                  1.1.1              pyhd8ed1ab_0    conda-forge\n",
      "tk                        8.6.12               h2bbff1b_0  \n",
      "tornado                   6.2             py310he2412df_0    conda-forge\n",
      "traitlets                 5.3.0              pyhd8ed1ab_0    conda-forge\n",
      "typing_extensions         4.3.0              pyha770c72_0    conda-forge\n",
      "tzdata                    2022a                hda174b7_0  \n",
      "urllib3                   1.26.11            pyhd8ed1ab_0    conda-forge\n",
      "vc                        14.2                 h21ff451_1  \n",
      "vs2015_runtime            14.27.29016          h5e58377_2  \n",
      "wcwidth                   0.2.5              pyh9f0ad1d_2    conda-forge\n",
      "webencodings              0.5.1                      py_1    conda-forge\n",
      "websocket-client          1.3.3              pyhd8ed1ab_0    conda-forge\n",
      "wheel                     0.37.1             pyhd3eb1b0_0  \n",
      "win_inet_pton             1.1.0           py310h5588dad_4    conda-forge\n",
      "wincertstore              0.2             py310haa95532_2  \n",
      "winpty                    0.4.3                         4    conda-forge\n",
      "xz                        5.2.5                h8cc25b3_1  \n",
      "zeromq                    4.3.4                h0e60522_1    conda-forge\n",
      "zipp                      3.8.1              pyhd8ed1ab_0    conda-forge\n",
      "zlib                      1.2.12               h8cc25b3_2  \n"
     ]
    }
   ],
   "source": [
    "!conda list"
   ]
  }
 ],
 "metadata": {
  "kernelspec": {
   "display_name": "Python 3 (ipykernel)",
   "language": "python",
   "name": "python3"
  },
  "language_info": {
   "codemirror_mode": {
    "name": "ipython",
    "version": 3
   },
   "file_extension": ".py",
   "mimetype": "text/x-python",
   "name": "python",
   "nbconvert_exporter": "python",
   "pygments_lexer": "ipython3",
   "version": "3.10.4"
  }
 },
 "nbformat": 4,
 "nbformat_minor": 5
}
