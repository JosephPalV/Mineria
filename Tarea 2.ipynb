{
 "cells": [
  {
   "cell_type": "markdown",
   "id": "313fa36a-18f4-4963-9dfa-0481bf1e00fc",
   "metadata": {},
   "source": [
    "# Tarea Numero 2"
   ]
  },
  {
   "cell_type": "markdown",
   "id": "ef1f6497-26d2-4a1c-9977-d059c1fc0230",
   "metadata": {},
   "source": [
    "## Punto 1:Colecciones"
   ]
  },
  {
   "cell_type": "markdown",
   "id": "c305cfd7-a06f-447e-ad8f-2d0cdf2fb417",
   "metadata": {},
   "source": [
    "##### 1.1 Se desea crear dos diccionarios uno con solo la edad de los hombres y uno con solo la edad de la mujeres, sin embargo no se cuenta con las edades, asi que creelas de una forma aleatoria, despues cree un solo diccionario con todas las personas, mire si Carol esta presente y cual es la menor edad (los nombres se presentan  en las siguientes listas)"
   ]
  },
  {
   "cell_type": "code",
   "execution_count": 46,
   "id": "59cf967d-ad69-4714-9257-ff1c50b25873",
   "metadata": {},
   "outputs": [
    {
     "name": "stdout",
     "output_type": "stream",
     "text": [
      "{'Alex': 59, 'Bob': 91, 'Dave': 59, 'Fer': 22, 'Carol': 34, 'Katie': 61, 'Nataly': 92}\n",
      "True\n",
      "la menor edad es 22  años\n"
     ]
    }
   ],
   "source": [
    "import random\n",
    "Hombres = [\"Alex\",\"Bob\",\"Dave\",\"Fer\",]\n",
    "Mujeres = [\"Carol\",\"Katie\",\"Nataly\"]\n",
    "dicH = {Hombre:random.randint(18,100) for Hombre in Hombres}\n",
    "dicM = {Mujer:random.randint(18,100) for Mujer  in Mujeres}\n",
    "dic = {**dicH, **dicM}\n",
    "print(dic)\n",
    "print('Carol' in dic)\n",
    "print(\"la menor edad es\", min(dic.values()),\" años\")"
   ]
  },
  {
   "cell_type": "markdown",
   "id": "5fe850db-7c48-49d0-8ec4-560f21ba12fa",
   "metadata": {},
   "source": [
    "##### 1.2 Se desea saber cual de los primeros cinco planetas es el que tiene mas lunas del sistema solar, ademas de saber cual es el mas pequeño  y cual es la distancia promedio al sol.\n"
   ]
  },
  {
   "cell_type": "code",
   "execution_count": 23,
   "id": "7990aca4-0e63-469d-9764-0c427dc5d9c2",
   "metadata": {},
   "outputs": [
    {
     "name": "stdout",
     "output_type": "stream",
     "text": [
      "El planeta mas grande es JUPITER  con una longitud de 142.984\n",
      "El promedio es 264396000.0\n",
      "El planeta con mas lunas es JUPITER  con un total  de 16\n"
     ]
    }
   ],
   "source": [
    "\n",
    "def pequeño(planetas,Tamaños):\n",
    "    for i in range(len(planetas)):\n",
    "        p=min(Tamaños)\n",
    "        if Tamaños[i]==g:\n",
    "            n=planetas[i]\n",
    "    return print(\"El planeta mas grande es\", n,\" con una longitud de\",p)\n",
    "def prom(x):\n",
    "    mean=sum(x)/len(x)\n",
    "    return print(\"El promedio es\", mean)\n",
    "def maxlu(planetas,Lunas):\n",
    "    for i in range(len(planetas)):\n",
    "        g=max(Lunas)\n",
    "        if Lunas[i]==g:\n",
    "            p=planetas[i]\n",
    "    return print(\"El planeta con mas lunas es\", p,\" con un total  de\",g)\n",
    "Nombres=('MERCURIO','VENUS', 'TIERRA','MARTE','JUPITER');\n",
    "Tamaños=(4.880, 12.104 ,12.756 ,6.794, 142.984)\n",
    "Distancia=(57910000, 108200000, 149600000, 227940000, 778330000)\n",
    "Lunas=(0,0,1,2,16)\n",
    "grande(Nombres,Tamaños)\n",
    "prom(Distancia)\n",
    "maxlu(Nombres,Lunas)"
   ]
  },
  {
   "cell_type": "markdown",
   "id": "094758e5-c2f5-4dc1-a64c-65cd87b5c8c2",
   "metadata": {},
   "source": [
    "## Punto 2"
   ]
  },
  {
   "cell_type": "markdown",
   "id": "38739e1c-e4d7-47f5-9f71-61a0ab86397f",
   "metadata": {},
   "source": [
    "Los datos se pueden obtener [aqui](https://github.com/JosephPalV/Mineria/blob/main/cuentas.xlsx)"
   ]
  },
  {
   "cell_type": "code",
   "execution_count": 143,
   "id": "53ad1c25-12f2-4c08-a9bd-971a089eb1ae",
   "metadata": {},
   "outputs": [
    {
     "name": "stdout",
     "output_type": "stream",
     "text": [
      "                               nombre    saldo   ult.transacción\n",
      " número de cuenta                                               \n",
      "1116226824              Karol Velandia   588451       2022-02-26\n",
      "6541060177                Daniel Gomez  2973588       2021-09-26\n",
      "2951228010           Robinson Casanare  2312704       2021-12-08\n",
      "2691327819         Esperanza Rodriguez  1575597       2022-06-10\n",
      "7946787912                  Ivan Duque  2090047       2021-10-03\n",
      "3929118872                 Rosa Flores  1243774       2022-03-11\n",
      "7121107495                  Ana Torres   897952       2021-09-29\n",
      "5913701623              Karen Espinosa  3987405       2021-06-01\n",
      "3694282766               Andrea Botero  4502084       2021-10-31\n",
      "6804977081             Diego Estupiñan  1848654       2021-05-27\n"
     ]
    }
   ],
   "source": [
    "import pandas as pd\n",
    "\n",
    "data= pd.read_excel(\"https://github.com/JosephPalV/Mineria/blob/main/cuentas.xlsx?raw=true\",index_col=0)\n",
    "print(data)"
   ]
  },
  {
   "cell_type": "code",
   "execution_count": 125,
   "id": "666a4b61-8f81-440c-9b60-39f4d8fc2577",
   "metadata": {},
   "outputs": [
    {
     "name": "stdout",
     "output_type": "stream",
     "text": [
      " nombre                 Diego Estupiñan\n",
      " saldo                          1848654\n",
      " ult.transacción    2021-05-27 00:00:00\n",
      "Name: 6804977081, dtype: object\n"
     ]
    }
   ],
   "source": [
    "print(data.loc[6804977081])"
   ]
  },
  {
   "cell_type": "code",
   "execution_count": 139,
   "id": "859ddf24-fa41-46a0-b6d0-0c3aca7cd3ba",
   "metadata": {},
   "outputs": [],
   "source": [
    "def cuenta():\n",
    "\n",
    "    num = input(\" Digite el número de cuenta: \")\n",
    "    \n",
    "    try:\n",
    "       return  print(\"Numero de cuenta:\", num,\"\\n información del usuario\\n\",data.loc[int(num)])\n",
    "    except:\n",
    "       return 'No hay registros'"
   ]
  },
  {
   "cell_type": "code",
   "execution_count": 140,
   "id": "ce36b69f-8663-4e98-8862-f05b4656c05b",
   "metadata": {},
   "outputs": [
    {
     "name": "stdin",
     "output_type": "stream",
     "text": [
      " Digite el número de cuenta:  6804977081\n"
     ]
    },
    {
     "name": "stdout",
     "output_type": "stream",
     "text": [
      "Numero de cuenta: 6804977081 \n",
      " información del usuario\n",
      "  nombre                 Diego Estupiñan\n",
      " saldo                          1848654\n",
      " ult.transacción    2021-05-27 00:00:00\n",
      "Name: 6804977081, dtype: object\n"
     ]
    }
   ],
   "source": [
    "cuenta()"
   ]
  }
 ],
 "metadata": {
  "kernelspec": {
   "display_name": "Python 3 (ipykernel)",
   "language": "python",
   "name": "python3"
  },
  "language_info": {
   "codemirror_mode": {
    "name": "ipython",
    "version": 3
   },
   "file_extension": ".py",
   "mimetype": "text/x-python",
   "name": "python",
   "nbconvert_exporter": "python",
   "pygments_lexer": "ipython3",
   "version": "3.10.4"
  }
 },
 "nbformat": 4,
 "nbformat_minor": 5
}
